{
  "nbformat": 4,
  "nbformat_minor": 0,
  "metadata": {
    "colab": {
      "provenance": [],
      "authorship_tag": "ABX9TyPvkCrtiVSXJ9Fw4rTR14mm",
      "include_colab_link": true
    },
    "kernelspec": {
      "name": "python3",
      "display_name": "Python 3"
    },
    "language_info": {
      "name": "python"
    }
  },
  "cells": [
    {
      "cell_type": "markdown",
      "metadata": {
        "id": "view-in-github",
        "colab_type": "text"
      },
      "source": [
        "<a href=\"https://colab.research.google.com/github/CaioCesar657/IAGoogle/blob/main/ia_para_receitas.ipynb\" target=\"_parent\"><img src=\"https://colab.research.google.com/assets/colab-badge.svg\" alt=\"Open In Colab\"/></a>"
      ]
    },
    {
      "cell_type": "code",
      "execution_count": null,
      "metadata": {
        "colab": {
          "base_uri": "https://localhost:8080/",
          "height": 630
        },
        "id": "YZqU0pHL9fIC",
        "outputId": "c6f1e635-2162-4b3d-bc5b-a8fb10aa99c7"
      },
      "outputs": [
        {
          "output_type": "display_data",
          "data": {
            "text/plain": [
              "\u001b[1;32mLivro de Receitas com IA\u001b[0m\n"
            ],
            "text/html": [
              "<pre style=\"white-space:pre;overflow-x:auto;line-height:normal;font-family:Menlo,'DejaVu Sans Mono',consolas,'Courier New',monospace\"><span style=\"color: #008000; text-decoration-color: #008000; font-weight: bold\">Livro de Receitas com IA</span>\n",
              "</pre>\n"
            ]
          },
          "metadata": {}
        },
        {
          "output_type": "display_data",
          "data": {
            "text/plain": [
              "Olá, Está tudo bem com você?\n",
              "Hoje nós utilizaremos a IA para achar a receita do que voce deseja!\n",
              "\n"
            ],
            "text/html": [
              "<pre style=\"white-space:pre;overflow-x:auto;line-height:normal;font-family:Menlo,'DejaVu Sans Mono',consolas,'Courier New',monospace\">Olá, Está tudo bem com você?\n",
              "Hoje nós utilizaremos a IA para achar a receita do que voce deseja!\n",
              "\n",
              "</pre>\n"
            ]
          },
          "metadata": {}
        },
        {
          "output_type": "display_data",
          "data": {
            "text/plain": [
              "Para isso precisamos que você digite o que você quer fazer?\n",
              "\n"
            ],
            "text/html": [
              "<pre style=\"white-space:pre;overflow-x:auto;line-height:normal;font-family:Menlo,'DejaVu Sans Mono',consolas,'Courier New',monospace\">Para isso precisamos que você digite o que você quer fazer?\n",
              "\n",
              "</pre>\n"
            ]
          },
          "metadata": {}
        },
        {
          "output_type": "display_data",
          "data": {
            "text/plain": [
              "Digite a receita que você quer ou \u001b[1mnada\u001b[0m para encerrar\n"
            ],
            "text/html": [
              "<pre style=\"white-space:pre;overflow-x:auto;line-height:normal;font-family:Menlo,'DejaVu Sans Mono',consolas,'Courier New',monospace\">Digite a receita que você quer ou <span style=\"font-weight: bold\">nada</span> para encerrar\n",
              "</pre>\n"
            ]
          },
          "metadata": {}
        },
        {
          "name": "stdout",
          "output_type": "stream",
          "text": [
            "\n",
            "Biscoito\n"
          ]
        },
        {
          "output_type": "display_data",
          "data": {
            "text/plain": [
              "Achei a receita que você estava procurando:\n",
              "\u001b[1mBiscoito\u001b[0m ## Ingredientes:\n",
              "\n",
              "* \u001b[1;36m1\u001b[0m xícara \u001b[1m(\u001b[0m\u001b[1;36m2\u001b[0m barras\u001b[1m)\u001b[0m de manteiga sem sal, amolecida\n",
              "* \u001b[1;36m1\u001b[0m xícara de açúcar granulado\n",
              "* \u001b[1;36m1\u001b[0m/\u001b[1;36m2\u001b[0m xícara de açúcar mascavo claro\n",
              "* \u001b[1;36m2\u001b[0m colheres de chá de extrato de baunilha puro\n",
              "* \u001b[1;36m2\u001b[0m \u001b[1;36m1\u001b[0m/\u001b[1;36m4\u001b[0m xícaras de farinha de trigo\n",
              "* \u001b[1;36m1\u001b[0m colher de chá de bicarbonato de sódio\n",
              "* \u001b[1;36m1\u001b[0m/\u001b[1;36m2\u001b[0m colher de chá de sal\n",
              "* \u001b[1;36m1\u001b[0m xícara de gotas de chocolate\n",
              "\n",
              "## Modo de Preparo:\n",
              "\n",
              "\u001b[1;36m1\u001b[0m. Pré-aqueça o forno a \u001b[1;36m190\u001b[0m graus C \u001b[1m(\u001b[0m\u001b[1;36m375\u001b[0m graus F\u001b[1m)\u001b[0m.\n",
              "\u001b[1;36m2\u001b[0m. Em uma tigela grande, bata a manteiga, o açúcar granulado e o açúcar mascavo até ficar leve e fofo. \n",
              "\u001b[1;36m3\u001b[0m. Incorpore o extrato de baunilha.\n",
              "\u001b[1;36m4\u001b[0m. Em uma tigela separada, misture a farinha, o bicarbonato de sódio e o sal.\n",
              "\u001b[1;36m5\u001b[0m. Gradualmente adicione os ingredientes secos aos ingredientes úmidos, misturando até incorporar.\n",
              "\u001b[1;36m6\u001b[0m. Misture as gotas de chocolate.\n",
              "\u001b[1;36m7\u001b[0m. Deixe a massa descansar na geladeira por \u001b[1;36m30\u001b[0m minutos. \n",
              "\u001b[1;36m8\u001b[0m. Forre uma assadeira com papel manteiga.\n",
              "\u001b[1;36m9\u001b[0m. Enrole colheres de sopa cheias de massa em bolas e coloque na assadeira preparada.\n",
              "\u001b[1;36m10\u001b[0m. Asse por \u001b[1;36m9\u001b[0m a \u001b[1;36m11\u001b[0m minutos, ou até dourar levemente nas bordas.\n",
              "\u001b[1;36m11\u001b[0m. Deixe esfriar na assadeira por alguns minutos antes de transferir para uma gradinha para esfriar completamente.\n",
              "\n",
              "\n"
            ],
            "text/html": [
              "<pre style=\"white-space:pre;overflow-x:auto;line-height:normal;font-family:Menlo,'DejaVu Sans Mono',consolas,'Courier New',monospace\">Achei a receita que você estava procurando:\n",
              "<span style=\"font-weight: bold\">Biscoito</span> ## Ingredientes:\n",
              "\n",
              "* <span style=\"color: #008080; text-decoration-color: #008080; font-weight: bold\">1</span> xícara <span style=\"font-weight: bold\">(</span><span style=\"color: #008080; text-decoration-color: #008080; font-weight: bold\">2</span> barras<span style=\"font-weight: bold\">)</span> de manteiga sem sal, amolecida\n",
              "* <span style=\"color: #008080; text-decoration-color: #008080; font-weight: bold\">1</span> xícara de açúcar granulado\n",
              "* <span style=\"color: #008080; text-decoration-color: #008080; font-weight: bold\">1</span>/<span style=\"color: #008080; text-decoration-color: #008080; font-weight: bold\">2</span> xícara de açúcar mascavo claro\n",
              "* <span style=\"color: #008080; text-decoration-color: #008080; font-weight: bold\">2</span> colheres de chá de extrato de baunilha puro\n",
              "* <span style=\"color: #008080; text-decoration-color: #008080; font-weight: bold\">2</span> <span style=\"color: #008080; text-decoration-color: #008080; font-weight: bold\">1</span>/<span style=\"color: #008080; text-decoration-color: #008080; font-weight: bold\">4</span> xícaras de farinha de trigo\n",
              "* <span style=\"color: #008080; text-decoration-color: #008080; font-weight: bold\">1</span> colher de chá de bicarbonato de sódio\n",
              "* <span style=\"color: #008080; text-decoration-color: #008080; font-weight: bold\">1</span>/<span style=\"color: #008080; text-decoration-color: #008080; font-weight: bold\">2</span> colher de chá de sal\n",
              "* <span style=\"color: #008080; text-decoration-color: #008080; font-weight: bold\">1</span> xícara de gotas de chocolate\n",
              "\n",
              "## Modo de Preparo:\n",
              "\n",
              "<span style=\"color: #008080; text-decoration-color: #008080; font-weight: bold\">1</span>. Pré-aqueça o forno a <span style=\"color: #008080; text-decoration-color: #008080; font-weight: bold\">190</span> graus C <span style=\"font-weight: bold\">(</span><span style=\"color: #008080; text-decoration-color: #008080; font-weight: bold\">375</span> graus F<span style=\"font-weight: bold\">)</span>.\n",
              "<span style=\"color: #008080; text-decoration-color: #008080; font-weight: bold\">2</span>. Em uma tigela grande, bata a manteiga, o açúcar granulado e o açúcar mascavo até ficar leve e fofo. \n",
              "<span style=\"color: #008080; text-decoration-color: #008080; font-weight: bold\">3</span>. Incorpore o extrato de baunilha.\n",
              "<span style=\"color: #008080; text-decoration-color: #008080; font-weight: bold\">4</span>. Em uma tigela separada, misture a farinha, o bicarbonato de sódio e o sal.\n",
              "<span style=\"color: #008080; text-decoration-color: #008080; font-weight: bold\">5</span>. Gradualmente adicione os ingredientes secos aos ingredientes úmidos, misturando até incorporar.\n",
              "<span style=\"color: #008080; text-decoration-color: #008080; font-weight: bold\">6</span>. Misture as gotas de chocolate.\n",
              "<span style=\"color: #008080; text-decoration-color: #008080; font-weight: bold\">7</span>. Deixe a massa descansar na geladeira por <span style=\"color: #008080; text-decoration-color: #008080; font-weight: bold\">30</span> minutos. \n",
              "<span style=\"color: #008080; text-decoration-color: #008080; font-weight: bold\">8</span>. Forre uma assadeira com papel manteiga.\n",
              "<span style=\"color: #008080; text-decoration-color: #008080; font-weight: bold\">9</span>. Enrole colheres de sopa cheias de massa em bolas e coloque na assadeira preparada.\n",
              "<span style=\"color: #008080; text-decoration-color: #008080; font-weight: bold\">10</span>. Asse por <span style=\"color: #008080; text-decoration-color: #008080; font-weight: bold\">9</span> a <span style=\"color: #008080; text-decoration-color: #008080; font-weight: bold\">11</span> minutos, ou até dourar levemente nas bordas.\n",
              "<span style=\"color: #008080; text-decoration-color: #008080; font-weight: bold\">11</span>. Deixe esfriar na assadeira por alguns minutos antes de transferir para uma gradinha para esfriar completamente.\n",
              "\n",
              "\n",
              "</pre>\n"
            ]
          },
          "metadata": {}
        },
        {
          "name": "stdout",
          "output_type": "stream",
          "text": [
            "\n",
            "nada\n"
          ]
        }
      ],
      "source": [
        "#!pip install -q -U google-generativeai\n",
        "import google.generativeai as genai\n",
        "from rich import print\n",
        "\n",
        "# Define a chave da API do Google\n",
        "GOOGLE_API_KEY=\"Sua_Chave_API\"\n",
        "\n",
        "# Configura a biblioteca genai com a chave da API\n",
        "genai.configure(api_key=GOOGLE_API_KEY)\n",
        "\n",
        "# Inicializa o modelo de linguagem Gemini Pro\n",
        "model = genai.GenerativeModel(model_name='gemini-1.5-pro-latest')\n",
        "\n",
        "# Inicia uma conversa com o modelo\n",
        "chat = model.start_chat(history=[])\n",
        "\n",
        "# Imprime uma mensagem de boas-vindas com formatação rich\n",
        "print(\"[bold green]Livro de Receitas com IA[/]\")\n",
        "print(\"Olá, Está tudo bem com você?\\nHoje nós utilizaremos a IA para achar a receita do que voce deseja!\\n\")\n",
        "print(\"Para isso precisamos que você digite o que você quer fazer?\\n\")\n",
        "print(\"Digite a receita que você quer ou [bold]nada[/bold] para encerrar\")\n",
        "\n",
        "# Recebe a entrada do usuário\n",
        "receita = input(\"\\n\")\n",
        "\n",
        "# Loop principal do programa\n",
        "while receita != \"nada\":\n",
        "    if receita != \"nada\":\n",
        "        # Define o prompt para o modelo, pedindo a receita do prato desejado\n",
        "        prompt = (f'Digite a receita de {receita}. Apenas a Receita, sem o titulo.')\n",
        "\n",
        "        # Envia o prompt ao modelo e recebe a resposta\n",
        "        response = chat.send_message(prompt)\n",
        "\n",
        "        # Imprime a receita formatada com rich\n",
        "        print(\"Achei a receita que você estava procurando:\\n\"f'[bold]{receita}[/bold]'\"\\n\", response.text, '\\n\\n')\n",
        "\n",
        "        # Recebe a próxima entrada do usuário\n",
        "        receita = input(\"\\n\")\n",
        "\n",
        "# Encerra o programa quando o usuário digita \"nada\""
      ]
    }
  ]
}